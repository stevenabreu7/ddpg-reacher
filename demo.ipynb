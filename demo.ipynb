{
 "cells": [
  {
   "cell_type": "markdown",
   "metadata": {},
   "source": [
    "# Trained agent\n",
    "---\n",
    "Watch a trained agent in the reacher environment."
   ]
  },
  {
   "cell_type": "code",
   "execution_count": 1,
   "metadata": {},
   "outputs": [],
   "source": [
    "from src.ddpg import AgentDDPG\n",
    "from unityagents import UnityEnvironment\n",
    "import matplotlib as mpl\n",
    "import matplotlib.pyplot as plt\n",
    "import json\n",
    "import numpy as np\n",
    "import os\n",
    "import random\n",
    "import time\n",
    "import sys"
   ]
  },
  {
   "cell_type": "markdown",
   "metadata": {},
   "source": [
    "Load the environment (choose either Reacher1 with one agent or Reacher20 with twenty agents)."
   ]
  },
  {
   "cell_type": "code",
   "execution_count": 2,
   "metadata": {},
   "outputs": [
    {
     "name": "stderr",
     "output_type": "stream",
     "text": [
      "INFO:unityagents:\n",
      "'Academy' started successfully!\n",
      "Unity Academy name: Academy\n",
      "        Number of Brains: 1\n",
      "        Number of External Brains : 1\n",
      "        Lesson number : 0\n",
      "        Reset Parameters :\n",
      "\t\tgoal_size -> 5.0\n",
      "\t\tgoal_speed -> 1.0\n",
      "Unity brain name: ReacherBrain\n",
      "        Number of Visual Observations (per agent): 0\n",
      "        Vector Observation space type: continuous\n",
      "        Vector Observation space size (per agent): 33\n",
      "        Number of stacked Vector Observation: 1\n",
      "        Vector Action space type: continuous\n",
      "        Vector Action space size (per agent): 4\n",
      "        Vector Action descriptions: , , , \n"
     ]
    },
    {
     "name": "stdout",
     "output_type": "stream",
     "text": [
      "Number of agents: 1\n",
      "Action size: 4\n",
      "State size: 33\n"
     ]
    }
   ],
   "source": [
    "# start the environment\n",
    "env = UnityEnvironment(file_name=\"src/exec/Reacher1.app\") # choose Reacher1.app or Reacher20.app\n",
    "# get default brain (responsible for deciding agent actions)\n",
    "brain_name = env.brain_names[0]\n",
    "brain = env.brains[brain_name]\n",
    "# examine state and action space\n",
    "env_info = env.reset(train_mode=True)[brain_name]\n",
    "action_size = brain.vector_action_space_size\n",
    "state_size = brain.vector_observation_space_size\n",
    "n_agents = len(env_info.agents)\n",
    "print('Number of agents:', n_agents)\n",
    "print('Action size:', action_size)\n",
    "print('State size:', state_size)"
   ]
  },
  {
   "cell_type": "markdown",
   "metadata": {},
   "source": [
    "Load the trained agent parameters and saved weights."
   ]
  },
  {
   "cell_type": "code",
   "execution_count": 3,
   "metadata": {},
   "outputs": [],
   "source": [
    "seed = 123\n",
    "with open(\"runs/params.json\") as json_file:\n",
    "    agentParams = json.load(json_file)\n",
    "agent = AgentDDPG(env, seed, **agentParams)\n",
    "agent.load_weights(\"runs\")"
   ]
  },
  {
   "cell_type": "markdown",
   "metadata": {},
   "source": [
    "Watch a trained agent for one episode."
   ]
  },
  {
   "cell_type": "code",
   "execution_count": 4,
   "metadata": {},
   "outputs": [
    {
     "name": "stdout",
     "output_type": "stream",
     "text": [
      "time step 1001 reward 0.04 \n",
      "Total score (averaged over agents) this episode: 36.11999919265509\n"
     ]
    }
   ],
   "source": [
    "# reset environment\n",
    "env_info = env.reset(train_mode=False)[brain_name]\n",
    "# get current state (for each agent)\n",
    "states = env_info.vector_observations\n",
    "# initialize score (for each agent)\n",
    "score = 0\n",
    "t_i = 0\n",
    "while True:\n",
    "    # select action (for each agent)\n",
    "    actions = agent.act(states)\n",
    "    # execute actions\n",
    "    env_info = env.step(actions)[brain_name]\n",
    "    # get next state, reward, done (for each agent)\n",
    "    next_states = env_info.vector_observations\n",
    "    rewards = env_info.rewards\n",
    "    dones = env_info.local_done\n",
    "    # update scores and states (for each agent)\n",
    "    score += rewards[0]\n",
    "    states = next_states\n",
    "    t_i += 1\n",
    "    print(\"\\rtime step {} reward {:.2f} \".format(t_i, rewards[0]), end=\"\")\n",
    "    sys.stdout.flush()\n",
    "    if np.any(dones):\n",
    "        break\n",
    "print('\\nTotal score (averaged over agents) this episode: {}'.format(score))"
   ]
  },
  {
   "cell_type": "markdown",
   "metadata": {},
   "source": [
    "Close the environment when done."
   ]
  },
  {
   "cell_type": "code",
   "execution_count": 5,
   "metadata": {},
   "outputs": [],
   "source": [
    "env.close()"
   ]
  }
 ],
 "metadata": {
  "kernelspec": {
   "display_name": "Python 3.6.3 64-bit ('3.6.3': pyenv)",
   "language": "python",
   "name": "python36364bit363pyenvbad1f56229964fd3ae35317ba3ca7775"
  },
  "language_info": {
   "codemirror_mode": {
    "name": "ipython",
    "version": 3
   },
   "file_extension": ".py",
   "mimetype": "text/x-python",
   "name": "python",
   "nbconvert_exporter": "python",
   "pygments_lexer": "ipython3",
   "version": "3.6.3"
  }
 },
 "nbformat": 4,
 "nbformat_minor": 4
}
